{
 "cells": [
  {
   "cell_type": "code",
   "execution_count": null,
   "id": "0c07fb4b-0116-445b-ae13-ef141cdd2182",
   "metadata": {},
   "outputs": [],
   "source": [
    "def summ(x,y):\n",
    "    return x + y"
   ]
  },
  {
   "cell_type": "code",
   "execution_count": null,
   "id": "26cdd09e-2e08-458e-bdde-1501f4281f8b",
   "metadata": {},
   "outputs": [],
   "source": [
    "import requests\n",
    "\n",
    "def get_details(url):\n",
    "    return requests.get(url).content\n",
    "\n",
    "def get_status_code(url):\n",
    "    return requests.get(url).status_code"
   ]
  },
  {
   "cell_type": "code",
   "execution_count": null,
   "id": "c344cd0b-27d2-4631-9bc4-95e2fb01e701",
   "metadata": {
    "tags": []
   },
   "outputs": [],
   "source": [
    "#get_details('https://github.com')\n",
    "get_status_code('https://github.com')"
   ]
  },
  {
   "cell_type": "code",
   "execution_count": null,
   "id": "1e186929-07c8-40c1-b384-472dd97240b3",
   "metadata": {
    "tags": [
     "imports"
    ]
   },
   "outputs": [],
   "source": [
    "import pandas"
   ]
  },
  {
   "cell_type": "code",
   "execution_count": null,
   "id": "0276a65d-ae88-442f-9745-34941f5870a5",
   "metadata": {
    "tags": []
   },
   "outputs": [],
   "source": [
    "df = pandas.DataFrame([[1, 2, 3], [4, None, 6]], columns=['a', 'b', 'c'], dtype='float')"
   ]
  },
  {
   "cell_type": "code",
   "execution_count": null,
   "id": "0a2779d3-f7fd-4ebf-90bb-ebc996589807",
   "metadata": {
    "tags": [
     "manipulation"
    ]
   },
   "outputs": [],
   "source": [
    "df = df.dropna()"
   ]
  },
  {
   "cell_type": "code",
   "execution_count": 1,
   "id": "1255e91e-a4bb-45bb-af9b-4db2ac7a1e98",
   "metadata": {},
   "outputs": [
    {
     "name": "stdout",
     "output_type": "stream",
     "text": [
      "some testbook testing\n"
     ]
    }
   ],
   "source": [
    "print('some testbook testing')"
   ]
  },
  {
   "cell_type": "code",
   "execution_count": null,
   "id": "ebe170c2",
   "metadata": {},
   "outputs": [],
   "source": []
  }
 ],
 "metadata": {
  "interpreter": {
   "hash": "949777d72b0d2535278d3dc13498b2535136f6dfe0678499012e853ee9abcab1"
  },
  "kernelspec": {
   "display_name": "Python 3.9.7 64-bit",
   "name": "python3"
  },
  "language_info": {
   "codemirror_mode": {
    "name": "ipython",
    "version": 3
   },
   "file_extension": ".py",
   "mimetype": "text/x-python",
   "name": "python",
   "nbconvert_exporter": "python",
   "pygments_lexer": "ipython3",
   "version": "3.9.8"
  }
 },
 "nbformat": 4,
 "nbformat_minor": 5
}
